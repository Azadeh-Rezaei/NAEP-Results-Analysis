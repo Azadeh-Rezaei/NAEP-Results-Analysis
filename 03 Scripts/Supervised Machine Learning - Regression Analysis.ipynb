{
 "cells": [
  {
   "cell_type": "markdown",
   "id": "216da883",
   "metadata": {},
   "source": [
    "# Supervised Machine Learning - Regression Analysis"
   ]
  },
  {
   "cell_type": "markdown",
   "id": "a0068dcd",
   "metadata": {},
   "source": [
    "### This script contains the following:\n",
    "\n",
    "#### 1. Importing Libraries and Data\n",
    "#### 2. Data Cleaning\n",
    "#### 3. Hypothesis\n",
    "         3A. Hypothesis 1:\n",
    "                  - Data prep for regression analysis\n",
    "                  - Regression Analysis\n",
    "         3B. Hypothesis 2:\n",
    "                  - Data prep for regression analysis\n",
    "                  - Regression Analysis        \n",
    "\n",
    "\n",
    "#### Bonus: performance improvement after removing outliers"
   ]
  },
  {
   "cell_type": "markdown",
   "id": "6baee023",
   "metadata": {},
   "source": [
    "## 1. Importing Libraries and Data"
   ]
  },
  {
   "cell_type": "code",
   "execution_count": 1,
   "id": "5fa40786",
   "metadata": {},
   "outputs": [],
   "source": [
    "import pandas as pd\n",
    "import numpy as np\n",
    "import seaborn as sns\n",
    "import matplotlib\n",
    "import matplotlib.pyplot as plt\n",
    "import os\n",
    "import sklearn\n",
    "from sklearn.model_selection import train_test_split \n",
    "from sklearn.linear_model import LinearRegression\n",
    "from sklearn.metrics import mean_squared_error, r2_score"
   ]
  },
  {
   "cell_type": "code",
   "execution_count": 2,
   "id": "9445f5fb",
   "metadata": {},
   "outputs": [],
   "source": [
    "# show matplotlib visualizations in the notebook\n",
    "%matplotlib inline"
   ]
  },
  {
   "cell_type": "code",
   "execution_count": 3,
   "id": "ae11f674",
   "metadata": {},
   "outputs": [],
   "source": [
    "path = r'/Users/azadehrezaei/Desktop/NAEP Results Analysis/02 Data'"
   ]
  },
  {
   "cell_type": "code",
   "execution_count": 4,
   "id": "d085d8ed",
   "metadata": {},
   "outputs": [],
   "source": [
    "# Importing the assessment results:\n",
    "df = pd.read_csv(os.path.join(path, 'Original Data', 'states_all_updated.csv'))"
   ]
  },
  {
   "cell_type": "markdown",
   "id": "185acc5a",
   "metadata": {},
   "source": [
    "I decided to use the original data here. Originally, I only kept the odd years (2009-2019) since the NAEP assessments are help every other year. During this part, I want to take a look at the State Revenue and since the revenue and instruction expeditures during the even years can equally affect the assessment results and student performance, I will be using the data for ALL years available. "
   ]
  },
  {
   "cell_type": "markdown",
   "id": "a78a6f3a",
   "metadata": {},
   "source": [
    "## 2. Data Cleaning\n"
   ]
  },
  {
   "cell_type": "code",
   "execution_count": 5,
   "id": "e32c94e9",
   "metadata": {},
   "outputs": [
    {
     "data": {
      "text/plain": [
       "Index(['PRIMARY_KEY', 'STATE', 'YEAR', 'ENROLL', 'TOTAL_REVENUE',\n",
       "       'FEDERAL_REVENUE', 'STATE_REVENUE', 'LOCAL_REVENUE',\n",
       "       'TOTAL_EXPENDITURE', 'INSTRUCTION_EXPENDITURE',\n",
       "       'SUPPORT_SERVICES_EXPENDITURE', 'OTHER_EXPENDITURE',\n",
       "       'CAPITAL_OUTLAY_EXPENDITURE', 'A_A_A', 'G04_A_A', 'G08_A_A', 'G04_AM_F',\n",
       "       'G04_AM_M', 'G04_AS_F', 'G04_AS_M', 'G04_BL_F', 'G04_BL_M', 'G04_HI_F',\n",
       "       'G04_HI_M', 'G04_HP_F', 'G04_HP_M', 'G04_TR_F', 'G04_TR_M', 'G04_WH_F',\n",
       "       'G04_WH_M', 'G08_AM_F', 'G08_AM_M', 'G08_AS_F', 'G08_AS_M', 'G08_BL_F',\n",
       "       'G08_BL_M', 'G08_HI_F', 'G08_HI_M', 'G08_HP_F', 'G08_HP_M', 'G08_TR_F',\n",
       "       'G08_TR_M', 'G08_WH_F', 'G08_WH_M', 'G04_A_A_READING',\n",
       "       'G04_A_A_MATHEMATICS', 'G04_A_M_READING', 'G04_A_M_MATHEMATICS',\n",
       "       'G04_A_F_READING', 'G04_A_F_MATHEMATICS', 'G04_WH_A_READING',\n",
       "       'G04_WH_A_MATHEMATICS', 'G04_BL_A_READING', 'G04_BL_A_MATHEMATICS',\n",
       "       'G04_HI_A_READING', 'G04_HI_A_MATHEMATICS', 'G04_AS_A_READING',\n",
       "       'G04_AS_A_MATHEMATICS', 'G04_AM_A_READING', 'G04_AM_A_MATHEMATICS',\n",
       "       'G04_HP_A_READING', 'G04_HP_A_MATHEMATICS', 'G04_TR_A_READING',\n",
       "       'G04_TR_A_MATHEMATICS', 'G08_A_A_READING', 'G08_A_A_MATHEMATICS',\n",
       "       'G08_A_M_READING', 'G08_A_M_MATHEMATICS', 'G08_A_F_READING',\n",
       "       'G08_A_F_MATHEMATICS', 'G08_WH_A_READING', 'G08_WH_A_MATHEMATICS',\n",
       "       'G08_BL_A_READING', 'G08_BL_A_MATHEMATICS', 'G08_HI_A_READING',\n",
       "       'G08_HI_A_MATHEMATICS', 'G08_AS_A_READING', 'G08_AS_A_MATHEMATICS',\n",
       "       'G08_AM_A_READING', 'G08_AM_A_MATHEMATICS', 'G08_HP_A_READING',\n",
       "       'G08_HP_A_MATHEMATICS', 'G08_TR_A_READING', 'G08_TR_A_MATHEMATICS'],\n",
       "      dtype='object')"
      ]
     },
     "execution_count": 5,
     "metadata": {},
     "output_type": "execute_result"
    }
   ],
   "source": [
    "df.columns"
   ]
  },
  {
   "cell_type": "markdown",
   "id": "dd24da45",
   "metadata": {},
   "source": [
    "I already have the columns I want in this set amd will use subsets to do my analysis if needed. \n",
    "I do however want to remove some of the rows. \n",
    "We only have the demographics data for students starting the yeat 2011 so I am going to create a subset for that. I also want to look at the revenue starting the year 2003 (including the even years).\n",
    "So this means I will be deleting all teh rows prior to 2003. \n",
    "I will also delet the rows for the state value of DODEA (Department of Defense Education Activity) and NATIONAL:"
   ]
  },
  {
   "cell_type": "code",
   "execution_count": 6,
   "id": "1b7ba173",
   "metadata": {},
   "outputs": [],
   "source": [
    "# Only keeping the rows for the years 2003 and after:\n",
    "df = df[df['YEAR'] > 2002]"
   ]
  },
  {
   "cell_type": "code",
   "execution_count": 7,
   "id": "44705275",
   "metadata": {},
   "outputs": [],
   "source": [
    "# Delete the rows with the values \"NATIONAL\" or \"DODEA\" in the STATE column:\n",
    "\n",
    "df = df.drop(df[df['STATE'].isin(['NATIONAL', 'DODEA'])].index)"
   ]
  },
  {
   "cell_type": "code",
   "execution_count": 8,
   "id": "a2b7d428",
   "metadata": {
    "scrolled": true
   },
   "outputs": [
    {
     "data": {
      "text/plain": [
       "ALABAMA                 16\n",
       "PENNSYLVANIA            16\n",
       "NEVADA                  16\n",
       "NEW_HAMPSHIRE           16\n",
       "NEW_JERSEY              16\n",
       "NEW_MEXICO              16\n",
       "NEW_YORK                16\n",
       "NORTH_CAROLINA          16\n",
       "NORTH_DAKOTA            16\n",
       "OHIO                    16\n",
       "OKLAHOMA                16\n",
       "OREGON                  16\n",
       "RHODE_ISLAND            16\n",
       "MONTANA                 16\n",
       "SOUTH_CAROLINA          16\n",
       "SOUTH_DAKOTA            16\n",
       "TENNESSEE               16\n",
       "TEXAS                   16\n",
       "UTAH                    16\n",
       "VERMONT                 16\n",
       "VIRGINIA                16\n",
       "WASHINGTON              16\n",
       "WEST_VIRGINIA           16\n",
       "WISCONSIN               16\n",
       "NEBRASKA                16\n",
       "MISSOURI                16\n",
       "ALASKA                  16\n",
       "IDAHO                   16\n",
       "ARIZONA                 16\n",
       "ARKANSAS                16\n",
       "CALIFORNIA              16\n",
       "COLORADO                16\n",
       "CONNECTICUT             16\n",
       "DELAWARE                16\n",
       "DISTRICT_OF_COLUMBIA    16\n",
       "FLORIDA                 16\n",
       "GEORGIA                 16\n",
       "HAWAII                  16\n",
       "ILLINOIS                16\n",
       "MISSISSIPPI             16\n",
       "INDIANA                 16\n",
       "IOWA                    16\n",
       "KANSAS                  16\n",
       "KENTUCKY                16\n",
       "LOUISIANA               16\n",
       "MAINE                   16\n",
       "MARYLAND                16\n",
       "MASSACHUSETTS           16\n",
       "MICHIGAN                16\n",
       "MINNESOTA               16\n",
       "WYOMING                 16\n",
       "Name: STATE, dtype: int64"
      ]
     },
     "execution_count": 8,
     "metadata": {},
     "output_type": "execute_result"
    }
   ],
   "source": [
    "# Checking out the name os states to make sure NATIONAL and DODEA are removed:\n",
    "\n",
    "df['STATE'].value_counts(dropna = False)"
   ]
  },
  {
   "cell_type": "code",
   "execution_count": 9,
   "id": "bbd31bd5",
   "metadata": {},
   "outputs": [
    {
     "data": {
      "text/plain": [
       "(816, 84)"
      ]
     },
     "execution_count": 9,
     "metadata": {},
     "output_type": "execute_result"
    }
   ],
   "source": [
    "df.shape"
   ]
  },
  {
   "cell_type": "markdown",
   "id": "761184de",
   "metadata": {},
   "source": [
    "I am going to create two subsets of the df to use for two separate regression analyses:\n",
    "\n",
    "- **Revenue Analysis**: \n",
    "    - 2003 and later years, keeping ALL the years\n",
    "- **Math Results Analysis**:  \n",
    "    - 2003 and later years and only the odd years. The reaosn for this is that: 1) NAEP results have been consistently reported since 2003 and 2) the NAEP assessments are held on odd years only"
   ]
  },
  {
   "cell_type": "code",
   "execution_count": 10,
   "id": "b39e996e",
   "metadata": {},
   "outputs": [],
   "source": [
    "# df subset for revenue analysis:\n",
    "df_rev = df\n",
    "\n",
    "# df subset for NAEP results analysis:\n",
    "df_res = df.drop(df[df['YEAR'].isin([2004, 2006, 2008, 2010, 2012, 2014, 2016])].index) # there is no YEAR 2018\n"
   ]
  },
  {
   "cell_type": "code",
   "execution_count": 11,
   "id": "21873576",
   "metadata": {
    "scrolled": true
   },
   "outputs": [
    {
     "data": {
      "text/plain": [
       "2003    51\n",
       "2005    51\n",
       "2007    51\n",
       "2009    51\n",
       "2011    51\n",
       "2013    51\n",
       "2015    51\n",
       "2017    51\n",
       "2019    51\n",
       "Name: YEAR, dtype: int64"
      ]
     },
     "execution_count": 11,
     "metadata": {},
     "output_type": "execute_result"
    }
   ],
   "source": [
    "df_res['YEAR'].value_counts(dropna = False) # includes District of Columbia"
   ]
  },
  {
   "cell_type": "markdown",
   "id": "739b8f0d",
   "metadata": {},
   "source": [
    "## 3. Hypothesis"
   ]
  },
  {
   "cell_type": "markdown",
   "id": "58613737",
   "metadata": {},
   "source": [
    "Hypotheses from Exercise 6.1:\n",
    "\n",
    "**3A. Hypothesis 1:**\n",
    "        \n",
    "    Does the federal/state and local revenue correlate with the scores in grades 4 and 8 NAEP Assessments?\n",
    "\n",
    "I am using this specific hypothesis based on this research question:\n",
    "\n",
    "- If a state has a higher Instruction Expenditure, then the average Mathematics and Reading Assessment scores (in either 4th or 8th grade level) in that state are higher. \n",
    "\n",
    "**3B. Hypothesis 2:**\n",
    "\n",
    "    Is there a correlation between federal/state/local revenue and instruction expenditure and is there a correlation between instruction expenditure and average NAEP assessment scores?\n",
    "\n",
    "I am using this specific hypothesis based on this research question:\n",
    "\n",
    "- If a state has a higher total revenue, then that state has a higher alocated instruction expenidture. \n",
    "\n",
    "\n",
    "\n",
    "\n"
   ]
  },
  {
   "cell_type": "markdown",
   "id": "d18f4a03",
   "metadata": {},
   "source": [
    "## 3A. Hypothesis 1:\n",
    "\n",
    "- If a state has a higher Instruction Expenditure, then the average Mathematics and Reading Assessment scores (in either 4th or 8th grade level) in that state are higher. \n",
    "For this hypothesis I am going to perform one regression analysis only instead of all the four for each grade level and eahc subject. \n",
    "\n",
    "I am using the Instruction Expenditure and 8th grade Mathematics Average Assessment Score. "
   ]
  },
  {
   "cell_type": "markdown",
   "id": "4b7c82b2",
   "metadata": {},
   "source": [
    "#### Data Prep for Regression Analysis"
   ]
  },
  {
   "cell_type": "code",
   "execution_count": 12,
   "id": "3bba03f9",
   "metadata": {},
   "outputs": [
    {
     "data": {
      "image/png": "[encoded data removed]",
      "text/plain": [
       "<Figure size 432x288 with 1 Axes>"
      ]
     },
     "metadata": {
      "needs_background": "light"
     },
     "output_type": "display_data"
    }
   ],
   "source": [
    "# Create a scatterplot using matplotlib to look at the chosen variables plotted against eachother:\n",
    "df_res.plot(x = 'INSTRUCTION_EXPENDITURE', y='G08_A_A_MATHEMATICS',style='o')\n",
    "plt.title('Instruction Expenditure vs. 8th Grade Mathematics Scores')  \n",
    "plt.xlabel('Instruction Expenditure')  \n",
    "plt.ylabel('8th Grade Mathematics Scores')  \n",
    "plt.show()"
   ]
  },
  {
   "cell_type": "code",
   "execution_count": 13,
   "id": "bca8a709",
   "metadata": {},
   "outputs": [],
   "source": [
    "# Reshape the variables into NumPy arrays and put them into separate objects.\n",
    "\n",
    "X1 = df_res['INSTRUCTION_EXPENDITURE'].values.reshape(-1,1)\n",
    "y1 = df_res['G08_A_A_MATHEMATICS'].values.reshape(-1,1)"
   ]
  },
  {
   "cell_type": "code",
   "execution_count": 14,
   "id": "f0064de7",
   "metadata": {},
   "outputs": [],
   "source": [
    "# Split data into a training set and a test set.\n",
    "\n",
    "X1_train, X1_test, y1_train, y1_test = train_test_split(X1, y1, test_size=0.3, random_state=0)"
   ]
  },
  {
   "cell_type": "markdown",
   "id": "6a767509",
   "metadata": {},
   "source": [
    "#### Regression Analysis"
   ]
  },
  {
   "cell_type": "code",
   "execution_count": 15,
   "id": "e10767f4",
   "metadata": {},
   "outputs": [],
   "source": [
    "# Create a regression object\n",
    "\n",
    "regression_1 = LinearRegression()"
   ]
  },
  {
   "cell_type": "code",
   "execution_count": 16,
   "id": "2a7fdacf",
   "metadata": {},
   "outputs": [
    {
     "data": {
      "text/plain": [
       "LinearRegression()"
      ]
     },
     "execution_count": 16,
     "metadata": {},
     "output_type": "execute_result"
    }
   ],
   "source": [
    "# Fit the regression object onto the training set\n",
    "\n",
    "regression_1.fit(X1_train, y1_train)"
   ]
  },
  {
   "cell_type": "code",
   "execution_count": 17,
   "id": "516b4ae7",
   "metadata": {},
   "outputs": [],
   "source": [
    "# Predict the values of y using X.\n",
    "\n",
    "y1_predicted = regression_1.predict(X1_test)"
   ]
  },
  {
   "cell_type": "code",
   "execution_count": 18,
   "id": "690aa6b6",
   "metadata": {},
   "outputs": [
    {
     "data": {
      "image/png": "[encoded data removed]",
      "text/plain": [
       "<Figure size 432x288 with 1 Axes>"
      ]
     },
     "metadata": {
      "needs_background": "light"
     },
     "output_type": "display_data"
    }
   ],
   "source": [
    "# Create a plot that shows the regression line from the model on the test set.\n",
    "\n",
    "plot_test1 = plt\n",
    "plot_test1.scatter(X1_test, y1_test, color='green', s = 15)\n",
    "plot_test1.plot(X1_test, y1_predicted, color='red', linewidth =3)\n",
    "plot_test1.title('Instruction Expenditure vs. 8th Grade Math Scores (Test set)')\n",
    "plot_test1.xlabel('Instruction Expenditure')\n",
    "plot_test1.ylabel('8th Grade Math Scores')\n",
    "plot_test1.show()"
   ]
  },
  {
   "cell_type": "code",
   "execution_count": 19,
   "id": "808acf44",
   "metadata": {},
   "outputs": [],
   "source": [
    "# Create objects that contain the model summary statistics.\n",
    "\n",
    "rmse_1 = mean_squared_error(y1_test, y1_predicted) # mean squared error\n",
    "r2_1 = r2_score(y1_test, y1_predicted)             # R2 score. "
   ]
  },
  {
   "cell_type": "code",
   "execution_count": 20,
   "id": "09e2d4d5",
   "metadata": {
    "scrolled": true
   },
   "outputs": [
    {
     "name": "stdout",
     "output_type": "stream",
     "text": [
      "Slope: [[6.73327059e-08]]\n",
      "Mean squared error:  73.0284615368355\n",
      "R2 score:  -0.01494445024761104\n"
     ]
    }
   ],
   "source": [
    "# Print the model summary statistics. This is where you evaluate the performance of the model.\n",
    "\n",
    "\n",
    "print('Slope:' ,regression_1.coef_)\n",
    "print('Mean squared error: ', rmse_1)\n",
    "print('R2 score: ', r2_1)"
   ]
  },
  {
   "cell_type": "markdown",
   "id": "f4208ddb",
   "metadata": {},
   "source": [
    "  "
   ]
  },
  {
   "cell_type": "markdown",
   "id": "b59c561a",
   "metadata": {},
   "source": [
    "- Uh oh.. This is not good! \n",
    "\n",
    "\n"
   ]
  },
  {
   "cell_type": "markdown",
   "id": "19eeae2a",
   "metadata": {},
   "source": [
    "   "
   ]
  },
  {
   "cell_type": "code",
   "execution_count": 22,
   "id": "86fd6ef6",
   "metadata": {
    "scrolled": false
   },
   "outputs": [
    {
     "data": {
      "text/plain": [
       "array([[280.49935532],\n",
       "       [280.74839031],\n",
       "       [280.71324661],\n",
       "       [280.65164123],\n",
       "       [280.8110207 ],\n",
       "       [280.81824954],\n",
       "       [280.58137288],\n",
       "       [280.46717897],\n",
       "       [280.60666251],\n",
       "       [280.45475925],\n",
       "       [280.48423751],\n",
       "       [280.65093208],\n",
       "       [281.16383499],\n",
       "       [281.36672978],\n",
       "       [280.58114482],\n",
       "       [280.94091761],\n",
       "       [280.68939589],\n",
       "       [280.46611444],\n",
       "       [280.89010115],\n",
       "       [281.01367727],\n",
       "       [280.45634453],\n",
       "       [280.90002619],\n",
       "       [280.59614595],\n",
       "       [280.46793033],\n",
       "       [280.84401279],\n",
       "       [280.6942295 ],\n",
       "       [281.50485347],\n",
       "       [280.62924899],\n",
       "       [280.50509092],\n",
       "       [280.97360926],\n",
       "       [280.65960682],\n",
       "       [280.47384908],\n",
       "       [280.60485866],\n",
       "       [281.19531391],\n",
       "       [280.46475189],\n",
       "       [280.46949555],\n",
       "       [280.64856931],\n",
       "       [280.92245512],\n",
       "       [280.7177779 ],\n",
       "       [280.57046606],\n",
       "       [280.81017251],\n",
       "       [282.95241312],\n",
       "       [280.54758405],\n",
       "       [280.67276848],\n",
       "       [280.56435461],\n",
       "       [280.75447651],\n",
       "       [282.09868901],\n",
       "       [280.67776544],\n",
       "       [281.13896936],\n",
       "       [280.65075627],\n",
       "       [281.12770473],\n",
       "       [280.46825993],\n",
       "       [280.84254561],\n",
       "       [280.78119561],\n",
       "       [283.01452485],\n",
       "       [280.58016789],\n",
       "       [280.98977907],\n",
       "       [281.0393892 ],\n",
       "       [280.6555107 ],\n",
       "       [280.64344232],\n",
       "       [280.52700738],\n",
       "       [281.05192325],\n",
       "       [280.55018612],\n",
       "       [280.63254574],\n",
       "       [280.97768349],\n",
       "       [281.04713502],\n",
       "       [280.75199672],\n",
       "       [280.46403076],\n",
       "       [280.75023038],\n",
       "       [281.52803504],\n",
       "       [280.80785809],\n",
       "       [280.4711582 ],\n",
       "       [280.56812376],\n",
       "       [280.70611588],\n",
       "       [280.73440564],\n",
       "       [280.46280227],\n",
       "       [280.76610305],\n",
       "       [280.43584428],\n",
       "       [283.41794465],\n",
       "       [282.52360545],\n",
       "       [280.63809981],\n",
       "       [280.76474401],\n",
       "       [280.46051377],\n",
       "       [280.59795033],\n",
       "       [282.4969918 ],\n",
       "       [282.80318822],\n",
       "       [281.29714284],\n",
       "       [280.93424184],\n",
       "       [280.46255786],\n",
       "       [282.0361714 ],\n",
       "       [280.6825565 ],\n",
       "       [280.74526055],\n",
       "       [280.48422774],\n",
       "       [281.08374786],\n",
       "       [280.73114701],\n",
       "       [280.46079798],\n",
       "       [280.71720813],\n",
       "       [280.4511989 ],\n",
       "       [280.44957584],\n",
       "       [280.80296064],\n",
       "       [280.67738797],\n",
       "       [282.39539435],\n",
       "       [280.46053653],\n",
       "       [280.44943747],\n",
       "       [280.66324938],\n",
       "       [281.01752607],\n",
       "       [280.43681057],\n",
       "       [280.70454514],\n",
       "       [280.6182945 ],\n",
       "       [280.77945311],\n",
       "       [280.54030047],\n",
       "       [280.8754276 ],\n",
       "       [280.45031637],\n",
       "       [280.73804033],\n",
       "       [280.85699258],\n",
       "       [280.99241723],\n",
       "       [280.59781782],\n",
       "       [281.437781  ],\n",
       "       [280.72399567],\n",
       "       [280.65161402],\n",
       "       [281.44564243],\n",
       "       [280.72718058],\n",
       "       [280.47714158],\n",
       "       [280.65729684],\n",
       "       [280.79724187],\n",
       "       [280.93979444],\n",
       "       [280.54354126],\n",
       "       [280.53525402],\n",
       "       [281.14989995],\n",
       "       [280.63936041],\n",
       "       [282.01390677],\n",
       "       [281.1843411 ],\n",
       "       [280.8262894 ],\n",
       "       [280.48355435],\n",
       "       [280.63845701],\n",
       "       [280.88633058],\n",
       "       [281.57378027],\n",
       "       [280.57860429]])"
      ]
     },
     "execution_count": 22,
     "metadata": {},
     "output_type": "execute_result"
    }
   ],
   "source": [
    "y1_predicted"
   ]
  },
  {
   "cell_type": "code",
   "execution_count": 23,
   "id": "d5ab58e7",
   "metadata": {},
   "outputs": [
    {
     "data": {
      "text/html": [
       "<div>\n",
       "<style scoped>\n",
       "    .dataframe tbody tr th:only-of-type {\n",
       "        vertical-align: middle;\n",
       "    }\n",
       "\n",
       "    .dataframe tbody tr th {\n",
       "        vertical-align: top;\n",
       "    }\n",
       "\n",
       "    .dataframe thead th {\n",
       "        text-align: right;\n",
       "    }\n",
       "</style>\n",
       "<table border=\"1\" class=\"dataframe\">\n",
       "  <thead>\n",
       "    <tr style=\"text-align: right;\">\n",
       "      <th></th>\n",
       "      <th>Actual</th>\n",
       "      <th>Predicted</th>\n",
       "    </tr>\n",
       "  </thead>\n",
       "  <tbody>\n",
       "    <tr>\n",
       "      <th>0</th>\n",
       "      <td>274.0</td>\n",
       "      <td>280.499355</td>\n",
       "    </tr>\n",
       "    <tr>\n",
       "      <th>1</th>\n",
       "      <td>282.0</td>\n",
       "      <td>280.748390</td>\n",
       "    </tr>\n",
       "    <tr>\n",
       "      <th>2</th>\n",
       "      <td>286.0</td>\n",
       "      <td>280.713247</td>\n",
       "    </tr>\n",
       "    <tr>\n",
       "      <th>3</th>\n",
       "      <td>282.0</td>\n",
       "      <td>280.651641</td>\n",
       "    </tr>\n",
       "    <tr>\n",
       "      <th>4</th>\n",
       "      <td>286.0</td>\n",
       "      <td>280.811021</td>\n",
       "    </tr>\n",
       "    <tr>\n",
       "      <th>5</th>\n",
       "      <td>289.0</td>\n",
       "      <td>280.818250</td>\n",
       "    </tr>\n",
       "    <tr>\n",
       "      <th>6</th>\n",
       "      <td>275.0</td>\n",
       "      <td>280.581373</td>\n",
       "    </tr>\n",
       "    <tr>\n",
       "      <th>7</th>\n",
       "      <td>280.0</td>\n",
       "      <td>280.467179</td>\n",
       "    </tr>\n",
       "    <tr>\n",
       "      <th>8</th>\n",
       "      <td>285.0</td>\n",
       "      <td>280.606663</td>\n",
       "    </tr>\n",
       "    <tr>\n",
       "      <th>9</th>\n",
       "      <td>287.0</td>\n",
       "      <td>280.454759</td>\n",
       "    </tr>\n",
       "    <tr>\n",
       "      <th>10</th>\n",
       "      <td>269.0</td>\n",
       "      <td>280.484238</td>\n",
       "    </tr>\n",
       "    <tr>\n",
       "      <th>11</th>\n",
       "      <td>266.0</td>\n",
       "      <td>280.650932</td>\n",
       "    </tr>\n",
       "    <tr>\n",
       "      <th>12</th>\n",
       "      <td>274.0</td>\n",
       "      <td>281.163835</td>\n",
       "    </tr>\n",
       "    <tr>\n",
       "      <th>13</th>\n",
       "      <td>278.0</td>\n",
       "      <td>281.366730</td>\n",
       "    </tr>\n",
       "    <tr>\n",
       "      <th>14</th>\n",
       "      <td>288.0</td>\n",
       "      <td>280.581145</td>\n",
       "    </tr>\n",
       "    <tr>\n",
       "      <th>15</th>\n",
       "      <td>281.0</td>\n",
       "      <td>280.940918</td>\n",
       "    </tr>\n",
       "    <tr>\n",
       "      <th>16</th>\n",
       "      <td>276.0</td>\n",
       "      <td>280.689396</td>\n",
       "    </tr>\n",
       "    <tr>\n",
       "      <th>17</th>\n",
       "      <td>286.0</td>\n",
       "      <td>280.466114</td>\n",
       "    </tr>\n",
       "    <tr>\n",
       "      <th>18</th>\n",
       "      <td>288.0</td>\n",
       "      <td>280.890101</td>\n",
       "    </tr>\n",
       "    <tr>\n",
       "      <th>19</th>\n",
       "      <td>278.0</td>\n",
       "      <td>281.013677</td>\n",
       "    </tr>\n",
       "    <tr>\n",
       "      <th>20</th>\n",
       "      <td>279.0</td>\n",
       "      <td>280.456345</td>\n",
       "    </tr>\n",
       "    <tr>\n",
       "      <th>21</th>\n",
       "      <td>270.0</td>\n",
       "      <td>280.900026</td>\n",
       "    </tr>\n",
       "    <tr>\n",
       "      <th>22</th>\n",
       "      <td>290.0</td>\n",
       "      <td>280.596146</td>\n",
       "    </tr>\n",
       "    <tr>\n",
       "      <th>23</th>\n",
       "      <td>295.0</td>\n",
       "      <td>280.467930</td>\n",
       "    </tr>\n",
       "    <tr>\n",
       "      <th>24</th>\n",
       "      <td>287.0</td>\n",
       "      <td>280.844013</td>\n",
       "    </tr>\n",
       "    <tr>\n",
       "      <th>25</th>\n",
       "      <td>277.0</td>\n",
       "      <td>280.694229</td>\n",
       "    </tr>\n",
       "    <tr>\n",
       "      <th>26</th>\n",
       "      <td>292.0</td>\n",
       "      <td>281.504853</td>\n",
       "    </tr>\n",
       "    <tr>\n",
       "      <th>27</th>\n",
       "      <td>285.0</td>\n",
       "      <td>280.629249</td>\n",
       "    </tr>\n",
       "    <tr>\n",
       "      <th>28</th>\n",
       "      <td>284.0</td>\n",
       "      <td>280.505091</td>\n",
       "    </tr>\n",
       "    <tr>\n",
       "      <th>29</th>\n",
       "      <td>288.0</td>\n",
       "      <td>280.973609</td>\n",
       "    </tr>\n",
       "  </tbody>\n",
       "</table>\n",
       "</div>"
      ],
      "text/plain": [
       "    Actual   Predicted\n",
       "0    274.0  280.499355\n",
       "1    282.0  280.748390\n",
       "2    286.0  280.713247\n",
       "3    282.0  280.651641\n",
       "4    286.0  280.811021\n",
       "5    289.0  280.818250\n",
       "6    275.0  280.581373\n",
       "7    280.0  280.467179\n",
       "8    285.0  280.606663\n",
       "9    287.0  280.454759\n",
       "10   269.0  280.484238\n",
       "11   266.0  280.650932\n",
       "12   274.0  281.163835\n",
       "13   278.0  281.366730\n",
       "14   288.0  280.581145\n",
       "15   281.0  280.940918\n",
       "16   276.0  280.689396\n",
       "17   286.0  280.466114\n",
       "18   288.0  280.890101\n",
       "19   278.0  281.013677\n",
       "20   279.0  280.456345\n",
       "21   270.0  280.900026\n",
       "22   290.0  280.596146\n",
       "23   295.0  280.467930\n",
       "24   287.0  280.844013\n",
       "25   277.0  280.694229\n",
       "26   292.0  281.504853\n",
       "27   285.0  280.629249\n",
       "28   284.0  280.505091\n",
       "29   288.0  280.973609"
      ]
     },
     "execution_count": 23,
     "metadata": {},
     "output_type": "execute_result"
    }
   ],
   "source": [
    "# Create a dataframe comparing the actual and predicted values of y.\n",
    "\n",
    "data_1 = pd.DataFrame({'Actual': y1_test.flatten(), 'Predicted': y1_predicted.flatten()})\n",
    "data_1.head(30)"
   ]
  },
  {
   "cell_type": "markdown",
   "id": "3221aedc",
   "metadata": {},
   "source": [
    "##### Compare how the regression fits the training set"
   ]
  },
  {
   "cell_type": "code",
   "execution_count": 24,
   "id": "340aef3a",
   "metadata": {},
   "outputs": [],
   "source": [
    "# Predict.\n",
    "\n",
    "y1_predicted_train = regression_1.predict(X1_train) # This is predicting X_train!"
   ]
  },
  {
   "cell_type": "code",
   "execution_count": 25,
   "id": "57d2721d",
   "metadata": {
    "scrolled": true
   },
   "outputs": [],
   "source": [
    "rmse_1 = mean_squared_error(y1_train, y1_predicted_train)\n",
    "r2_1 = r2_score(y1_train, y1_predicted_train)\n"
   ]
  },
  {
   "cell_type": "code",
   "execution_count": 26,
   "id": "bbb2ca9f",
   "metadata": {},
   "outputs": [
    {
     "name": "stdout",
     "output_type": "stream",
     "text": [
      "Slope: [[6.73327059e-08]]\n",
      "Mean squared error:  61.85975472112043\n",
      "R2 score:  0.0044250462998267626\n"
     ]
    }
   ],
   "source": [
    "print('Slope:' ,regression_1.coef_)\n",
    "print('Mean squared error: ', rmse_1)\n",
    "print('R2 score: ', r2_1)"
   ]
  },
  {
   "cell_type": "code",
   "execution_count": 27,
   "id": "980169db",
   "metadata": {},
   "outputs": [
    {
     "data": {
      "image/png": "[encoded data removed]",
      "text/plain": [
       "<Figure size 432x288 with 1 Axes>"
      ]
     },
     "metadata": {
      "needs_background": "light"
     },
     "output_type": "display_data"
    }
   ],
   "source": [
    "# Visualizing the training set results.\n",
    "\n",
    "plot_test_1 = plt\n",
    "plot_test_1.scatter(X1_train, y1_train, color='green', s = 15)\n",
    "plot_test_1.plot(X1_train, y1_predicted_train, color='red', linewidth =3)\n",
    "plot_test_1.title('Instruction Expenditure vs. 8th Grade Math Scores(Test set)')\n",
    "plot_test_1.xlabel('Instruction Expenditure')\n",
    "plot_test_1.ylabel('8th Grade Math Scores')\n",
    "plot_test_1.show()"
   ]
  },
  {
   "cell_type": "markdown",
   "id": "4f89a647",
   "metadata": {},
   "source": [
    "### **Interpretation:**\n",
    "\n",
    "The slope is 6.73327059e-08 which is a very small positive number (0.0000000673327059). This doesn't say much about the hypothesis BUT the Mean Squared Error is 73 which is a very big difference when we consider the context of this analysis. 73 points is the difference between a stundet meeting NAEP Basic level or being Proficient.\n",
    "What's more is that the R2 score is -0.0149 which is very close to zero and basically shows that the regression line is a very poor fit in this hypothesis. \n",
    "\n",
    "This all basically means that the model is not performing well! This shows that the Instruction Expenditure is NOT the only factor affecting assessment scores. The cluster of points on the left hand side of this plot also confirms that a single regression line is not the most accurate prediction model in this analysis. \n",
    "\n",
    "\n",
    "\n"
   ]
  },
  {
   "cell_type": "markdown",
   "id": "ff996996",
   "metadata": {},
   "source": [
    "## 3B. Hypothesis 2:\n",
    "\n",
    "If a state has a higher total revenue, then that state has a higher alocated instruction expenidture. \n",
    "\n",
    "For this hypothesis I am looking at the \"TOTAL REVENUE\" and \"INSTRUCTION EXPENDITURE\""
   ]
  },
  {
   "cell_type": "markdown",
   "id": "f6ea0704",
   "metadata": {},
   "source": [
    "#### Data Prep for Regression Analysis"
   ]
  },
  {
   "cell_type": "code",
   "execution_count": 28,
   "id": "6e55cc80",
   "metadata": {
    "scrolled": false
   },
   "outputs": [
    {
     "data": {
      "image/png": "[encoded data removed]",
      "text/plain": [
       "<Figure size 432x288 with 1 Axes>"
      ]
     },
     "metadata": {
      "needs_background": "light"
     },
     "output_type": "display_data"
    }
   ],
   "source": [
    "# Create a scatterplot using matplotlib to look at the chosen variables plotted against eachother:\n",
    "df_rev.plot(x = 'TOTAL_REVENUE', y='INSTRUCTION_EXPENDITURE',style='o')\n",
    "plt.title('Total State Revenue vs. Instruction Expenditure')  \n",
    "plt.xlabel('Total Revenue')  \n",
    "plt.ylabel('Instruction Expenditure')  \n",
    "plt.show()"
   ]
  },
  {
   "cell_type": "code",
   "execution_count": 29,
   "id": "b80c5aad",
   "metadata": {},
   "outputs": [],
   "source": [
    "# Reshape the variables into NumPy arrays and put them into separate objects.\n",
    "\n",
    "X2 = df['TOTAL_REVENUE'].values.reshape(-1,1)\n",
    "y2 = df['INSTRUCTION_EXPENDITURE'].values.reshape(-1,1)"
   ]
  },
  {
   "cell_type": "code",
   "execution_count": 30,
   "id": "3c4c1796",
   "metadata": {},
   "outputs": [],
   "source": [
    "# Split data into a training set and a test set.\n",
    "\n",
    "X2_train, X2_test, y2_train, y2_test = train_test_split(X2, y2, test_size=0.3, random_state=0)"
   ]
  },
  {
   "cell_type": "markdown",
   "id": "d6d3ccb7",
   "metadata": {},
   "source": [
    "#### Regression Analysis"
   ]
  },
  {
   "cell_type": "code",
   "execution_count": 31,
   "id": "a630e45b",
   "metadata": {},
   "outputs": [],
   "source": [
    "# Create a regression object\n",
    "\n",
    "regression_2 = LinearRegression() "
   ]
  },
  {
   "cell_type": "code",
   "execution_count": 32,
   "id": "5c26d75b",
   "metadata": {},
   "outputs": [
    {
     "data": {
      "text/plain": [
       "LinearRegression()"
      ]
     },
     "execution_count": 32,
     "metadata": {},
     "output_type": "execute_result"
    }
   ],
   "source": [
    "# Fit the regression object onto the training set\n",
    "\n",
    "regression_2.fit(X2_train, y2_train)"
   ]
  },
  {
   "cell_type": "code",
   "execution_count": 33,
   "id": "b22d7794",
   "metadata": {},
   "outputs": [],
   "source": [
    "# Predict the values of y using X.\n",
    "\n",
    "y2_predicted = regression_2.predict(X2_test)"
   ]
  },
  {
   "cell_type": "code",
   "execution_count": 34,
   "id": "4355c611",
   "metadata": {},
   "outputs": [
    {
     "data": {
      "image/png": "[encoded data removed]",
      "text/plain": [
       "<Figure size 432x288 with 1 Axes>"
      ]
     },
     "metadata": {
      "needs_background": "light"
     },
     "output_type": "display_data"
    }
   ],
   "source": [
    "# Create a plot that shows the regression line from the model on the test set.\n",
    "\n",
    "plot_test2 = plt\n",
    "plot_test2.scatter(X2_test, y2_test, color='blue', s = 15)\n",
    "plot_test2.plot(X2_test, y2_predicted, color='red', linewidth =3)\n",
    "plot_test2.title('Total Revenue vs Instruction Expenditure (Test set)')\n",
    "plot_test2.xlabel('Total Revenue')\n",
    "plot_test2.ylabel('Instruction Expenditure')\n",
    "plot_test2.show()"
   ]
  },
  {
   "cell_type": "code",
   "execution_count": 35,
   "id": "c0653be6",
   "metadata": {},
   "outputs": [],
   "source": [
    "# Create objects that contain the model summary statistics.\n",
    "\n",
    "rmse_2 = mean_squared_error(y2_test, y2_predicted) # mean squared error\n",
    "r2_2 = r2_score(y2_test, y2_predicted) # R2 score. "
   ]
  },
  {
   "cell_type": "code",
   "execution_count": 36,
   "id": "b5550f9e",
   "metadata": {},
   "outputs": [
    {
     "name": "stdout",
     "output_type": "stream",
     "text": [
      "Slope: [[6.73327059e-08]]\n",
      "Mean squared error:  1465052831591.7002\n",
      "R2 score:  0.9761990178719787\n"
     ]
    }
   ],
   "source": [
    "# Print the model summary statistics. \n",
    "\n",
    "print('Slope:' ,regression_1.coef_)\n",
    "print('Mean squared error: ', rmse_2)\n",
    "print('R2 score: ', r2_2)"
   ]
  },
  {
   "cell_type": "code",
   "execution_count": 37,
   "id": "02591304",
   "metadata": {},
   "outputs": [
    {
     "data": {
      "text/plain": [
       "array([[42108111.15467531],\n",
       "       [ 5159867.16426263],\n",
       "       [32337494.30192335],\n",
       "       [ 7265299.06482338],\n",
       "       [ 1240505.21304251],\n",
       "       [ 4290289.13837418],\n",
       "       [27400155.95655099],\n",
       "       [ 6744371.57640564],\n",
       "       [23797929.67581454],\n",
       "       [ 1523544.21231645],\n",
       "       [ 1006655.01361719],\n",
       "       [15715718.78304618],\n",
       "       [  437293.43983065],\n",
       "       [ 3643436.70162567],\n",
       "       [ 5869169.6580798 ],\n",
       "       [ 9968462.13221242],\n",
       "       [ 4415579.84561738],\n",
       "       [  362106.69802579],\n",
       "       [ 1064027.90054882],\n",
       "       [  997745.92522287],\n",
       "       [ 4020089.46932761],\n",
       "       [ 2113817.91409135],\n",
       "       [  521964.62501984],\n",
       "       [  746547.01707115],\n",
       "       [31699334.85779829],\n",
       "       [18889926.33134036],\n",
       "       [ 5276134.79259236],\n",
       "       [ 5481746.67715674],\n",
       "       [  863764.38631393],\n",
       "       [ 2255763.12239698],\n",
       "       [ 4650668.27380989],\n",
       "       [ 3259315.12384238],\n",
       "       [ 3654407.88391371],\n",
       "       [ 3553335.02971405],\n",
       "       [ 3673612.85531205],\n",
       "       [  744675.08745582],\n",
       "       [10486029.33139284],\n",
       "       [ 1132840.8975913 ],\n",
       "       [ 8814898.0673341 ],\n",
       "       [  961816.76187599],\n",
       "       [ 3978925.92617038],\n",
       "       [15029990.71711474],\n",
       "       [ 1493715.43258178],\n",
       "       [ 1114217.22381666],\n",
       "       [ 1267255.16828144],\n",
       "       [ 1315467.75548507],\n",
       "       [ 2067595.02869818],\n",
       "       [ 2628431.62432315],\n",
       "       [ 1254244.04191621],\n",
       "       [ 1582575.63428965],\n",
       "       [ 2868132.07650586],\n",
       "       [ 5427315.93414578],\n",
       "       [ 8074885.12303704],\n",
       "       [ 7905095.43441293],\n",
       "       [ 4952862.54245486],\n",
       "       [ 2920042.60258883],\n",
       "       [ 1405679.09600043],\n",
       "       [10317944.09816162],\n",
       "       [ 5670409.63017087],\n",
       "       [ 1713112.60661061],\n",
       "       [ 2401976.76241708],\n",
       "       [ 5064779.62267717],\n",
       "       [13836280.92016008],\n",
       "       [ 3970803.96662151],\n",
       "       [  865282.99934386],\n",
       "       [  749454.04542903],\n",
       "       [ 1462926.1071455 ],\n",
       "       [ 4826047.81978747],\n",
       "       [  631911.99229049],\n",
       "       [16624610.57229306],\n",
       "       [27259361.45822535],\n",
       "       [ 5606060.0912761 ],\n",
       "       [ 5720386.63934382],\n",
       "       [ 5824730.64327531],\n",
       "       [51720595.60516378],\n",
       "       [ 2130189.32969391],\n",
       "       [ 3228346.43891627],\n",
       "       [ 3811715.88081126],\n",
       "       [ 1246029.16118586],\n",
       "       [ 1716354.58341337],\n",
       "       [  335367.54757541],\n",
       "       [ 1217075.56932329],\n",
       "       [  699675.84436531],\n",
       "       [ 5445244.86001702],\n",
       "       [  605787.09406885],\n",
       "       [ 5832003.34644458],\n",
       "       [ 3237452.1744621 ],\n",
       "       [20247686.31324431],\n",
       "       [ 4784927.49578441],\n",
       "       [13522171.13070828],\n",
       "       [ 9267746.20385153],\n",
       "       [ 1208561.93618969],\n",
       "       [ 1030633.54059447],\n",
       "       [ 3483569.59056137],\n",
       "       [ 6274596.11791504],\n",
       "       [ 1836198.05651188],\n",
       "       [  785806.75648685],\n",
       "       [ 1479379.09890157],\n",
       "       [ 3886455.30437038],\n",
       "       [  780797.65651764],\n",
       "       [ 4429107.98111446],\n",
       "       [ 1027664.38470246],\n",
       "       [ 2131591.25100755],\n",
       "       [ 4097799.1292576 ],\n",
       "       [ 2072701.91200372],\n",
       "       [ 1014383.67886304],\n",
       "       [12524932.3672094 ],\n",
       "       [ 7620021.89345607],\n",
       "       [ 6136950.13497126],\n",
       "       [ 4399777.84237112],\n",
       "       [32972160.01767257],\n",
       "       [ 4567900.89236224],\n",
       "       [ 5818307.19648563],\n",
       "       [ 5639722.40998635],\n",
       "       [ 2183000.43490206],\n",
       "       [ 3626062.60164619],\n",
       "       [  768997.20670881],\n",
       "       [29793492.79290667],\n",
       "       [  827484.06733937],\n",
       "       [ 2795038.76248148],\n",
       "       [ 2976377.68958076],\n",
       "       [  727164.30690125],\n",
       "       [14899465.08982174],\n",
       "       [ 1294650.7096359 ],\n",
       "       [ 7813754.45325526],\n",
       "       [ 1781045.01338672],\n",
       "       [  355273.74975028],\n",
       "       [ 1603612.01734627],\n",
       "       [ 4537592.92025562],\n",
       "       [10114026.94468043],\n",
       "       [ 5187163.84180191],\n",
       "       [ 3717804.98069829],\n",
       "       [ 1999141.83111422],\n",
       "       [ 7142067.75027675],\n",
       "       [ 1095147.85251455],\n",
       "       [ 2609704.7648179 ],\n",
       "       [ 2805080.19271527],\n",
       "       [ 2325049.36917771],\n",
       "       [ 6937925.85719384],\n",
       "       [ 7098380.20851554],\n",
       "       [ 1775611.82546714],\n",
       "       [ 1040350.2869325 ],\n",
       "       [13570311.32582866],\n",
       "       [ 3363139.95768431],\n",
       "       [35464488.16571482],\n",
       "       [ 4871667.25774043],\n",
       "       [  793538.12292983],\n",
       "       [ 8402293.44622935],\n",
       "       [ 9347357.50656534],\n",
       "       [16679779.82260104],\n",
       "       [38167220.66228037],\n",
       "       [ 2887022.62855755],\n",
       "       [ 4561162.48598649],\n",
       "       [ 6555850.70636087],\n",
       "       [  924304.69700736],\n",
       "       [ 2740892.72564866],\n",
       "       [ 6531934.84715715],\n",
       "       [  582196.99923975],\n",
       "       [ 4764304.39588961],\n",
       "       [ 4660580.58682057],\n",
       "       [  528599.30542556],\n",
       "       [ 2802391.42108598],\n",
       "       [ 6130932.94823085],\n",
       "       [ 2316223.47765517],\n",
       "       [ 1122234.37691664],\n",
       "       [ 1184793.5623496 ],\n",
       "       [14415105.32775385],\n",
       "       [ 6564964.54549811],\n",
       "       [ 6858198.9432426 ],\n",
       "       [22062181.99458398],\n",
       "       [ 1288547.08458714],\n",
       "       [ 4025216.88173138],\n",
       "       [ 4100060.57149996],\n",
       "       [11224999.61359536],\n",
       "       [ 3142340.86234184],\n",
       "       [  633449.51370036],\n",
       "       [ 1506427.26630433],\n",
       "       [  939454.63126497],\n",
       "       [ 1405093.47646132],\n",
       "       [ 3721068.02683872],\n",
       "       [ 2897091.0707627 ],\n",
       "       [  496855.37692138],\n",
       "       [  312418.17670699],\n",
       "       [ 1738416.88114229],\n",
       "       [ 2703362.29263951],\n",
       "       [10299615.39511424],\n",
       "       [ 2117206.29577889],\n",
       "       [  746268.79376613],\n",
       "       [35654852.87292471],\n",
       "       [ 4009438.64901992],\n",
       "       [ 1185769.23475516],\n",
       "       [11797644.22238114],\n",
       "       [14289855.67870712],\n",
       "       [ 1829796.75953872],\n",
       "       [14898156.08968959],\n",
       "       [ 5859736.53744106],\n",
       "       [ 4785326.73272113],\n",
       "       [ 4206526.63590158],\n",
       "       [ 1448368.81553956],\n",
       "       [  878126.65148665],\n",
       "       [ 3548181.68581777],\n",
       "       [ 3218849.02978569],\n",
       "       [ 6449169.6266672 ],\n",
       "       [ 1413465.56686499],\n",
       "       [ 1371964.91430517],\n",
       "       [ 6154866.09509624],\n",
       "       [ 6147725.75058664],\n",
       "       [ 9895943.09269918],\n",
       "       [ 5293790.89755285],\n",
       "       [ 2989231.60627267],\n",
       "       [ 2467493.75871409],\n",
       "       [  554495.68236948],\n",
       "       [13923506.89760059],\n",
       "       [ 2377305.64849411],\n",
       "       [ 4383006.10935299],\n",
       "       [ 2235231.8632048 ],\n",
       "       [ 2238963.83716806],\n",
       "       [12394869.72510554],\n",
       "       [ 5015088.94040065],\n",
       "       [  621880.28636639],\n",
       "       [ 7385733.55985528],\n",
       "       [ 5301640.03619097],\n",
       "       [ 5934585.62960391],\n",
       "       [ 3077981.05889795],\n",
       "       [  380178.24710582],\n",
       "       [ 7892125.36624417],\n",
       "       [ 5321557.04315439],\n",
       "       [  619413.55314169],\n",
       "       [ 3095419.9876087 ],\n",
       "       [  771916.1203341 ],\n",
       "       [  990539.67150314],\n",
       "       [ 1312839.49067164],\n",
       "       [12570595.02431654],\n",
       "       [ 4376159.65509179],\n",
       "       [ 5065636.44240874],\n",
       "       [12076060.93311576],\n",
       "       [  767397.01752538],\n",
       "       [ 2125477.9016491 ],\n",
       "       [ 1280924.30626903],\n",
       "       [ 4341497.89344119],\n",
       "       [ 2179317.08248726],\n",
       "       [ 1968669.0859823 ],\n",
       "       [  810208.83117507],\n",
       "       [31036300.62948618],\n",
       "       [ 3512444.84770699]])"
      ]
     },
     "execution_count": 37,
     "metadata": {},
     "output_type": "execute_result"
    }
   ],
   "source": [
    "y2_predicted"
   ]
  },
  {
   "cell_type": "code",
   "execution_count": 38,
   "id": "eb491fea",
   "metadata": {},
   "outputs": [
    {
     "data": {
      "text/html": [
       "<div>\n",
       "<style scoped>\n",
       "    .dataframe tbody tr th:only-of-type {\n",
       "        vertical-align: middle;\n",
       "    }\n",
       "\n",
       "    .dataframe tbody tr th {\n",
       "        vertical-align: top;\n",
       "    }\n",
       "\n",
       "    .dataframe thead th {\n",
       "        text-align: right;\n",
       "    }\n",
       "</style>\n",
       "<table border=\"1\" class=\"dataframe\">\n",
       "  <thead>\n",
       "    <tr style=\"text-align: right;\">\n",
       "      <th></th>\n",
       "      <th>Actual</th>\n",
       "      <th>Predicted</th>\n",
       "    </tr>\n",
       "  </thead>\n",
       "  <tbody>\n",
       "    <tr>\n",
       "      <th>0</th>\n",
       "      <td>38951948.0</td>\n",
       "      <td>4.210811e+07</td>\n",
       "    </tr>\n",
       "    <tr>\n",
       "      <th>1</th>\n",
       "      <td>5290595.0</td>\n",
       "      <td>5.159867e+06</td>\n",
       "    </tr>\n",
       "    <tr>\n",
       "      <th>2</th>\n",
       "      <td>29624968.0</td>\n",
       "      <td>3.233749e+07</td>\n",
       "    </tr>\n",
       "    <tr>\n",
       "      <th>3</th>\n",
       "      <td>7140620.0</td>\n",
       "      <td>7.265299e+06</td>\n",
       "    </tr>\n",
       "    <tr>\n",
       "      <th>4</th>\n",
       "      <td>1414919.0</td>\n",
       "      <td>1.240505e+06</td>\n",
       "    </tr>\n",
       "    <tr>\n",
       "      <th>5</th>\n",
       "      <td>4785880.0</td>\n",
       "      <td>4.290289e+06</td>\n",
       "    </tr>\n",
       "    <tr>\n",
       "      <th>6</th>\n",
       "      <td>25155007.0</td>\n",
       "      <td>2.740016e+07</td>\n",
       "    </tr>\n",
       "    <tr>\n",
       "      <th>7</th>\n",
       "      <td>7521325.0</td>\n",
       "      <td>6.744372e+06</td>\n",
       "    </tr>\n",
       "    <tr>\n",
       "      <th>8</th>\n",
       "      <td>21061312.0</td>\n",
       "      <td>2.379793e+07</td>\n",
       "    </tr>\n",
       "    <tr>\n",
       "      <th>9</th>\n",
       "      <td>1700085.0</td>\n",
       "      <td>1.523544e+06</td>\n",
       "    </tr>\n",
       "    <tr>\n",
       "      <th>10</th>\n",
       "      <td>1130814.0</td>\n",
       "      <td>1.006655e+06</td>\n",
       "    </tr>\n",
       "    <tr>\n",
       "      <th>11</th>\n",
       "      <td>16335585.0</td>\n",
       "      <td>1.571572e+07</td>\n",
       "    </tr>\n",
       "    <tr>\n",
       "      <th>12</th>\n",
       "      <td>473414.0</td>\n",
       "      <td>4.372934e+05</td>\n",
       "    </tr>\n",
       "    <tr>\n",
       "      <th>13</th>\n",
       "      <td>3430268.0</td>\n",
       "      <td>3.643437e+06</td>\n",
       "    </tr>\n",
       "    <tr>\n",
       "      <th>14</th>\n",
       "      <td>5986788.0</td>\n",
       "      <td>5.869170e+06</td>\n",
       "    </tr>\n",
       "    <tr>\n",
       "      <th>15</th>\n",
       "      <td>9220322.0</td>\n",
       "      <td>9.968462e+06</td>\n",
       "    </tr>\n",
       "    <tr>\n",
       "      <th>16</th>\n",
       "      <td>4365583.0</td>\n",
       "      <td>4.415580e+06</td>\n",
       "    </tr>\n",
       "    <tr>\n",
       "      <th>17</th>\n",
       "      <td>483989.0</td>\n",
       "      <td>3.621067e+05</td>\n",
       "    </tr>\n",
       "    <tr>\n",
       "      <th>18</th>\n",
       "      <td>1007207.0</td>\n",
       "      <td>1.064028e+06</td>\n",
       "    </tr>\n",
       "    <tr>\n",
       "      <th>19</th>\n",
       "      <td>1124302.0</td>\n",
       "      <td>9.977459e+05</td>\n",
       "    </tr>\n",
       "    <tr>\n",
       "      <th>20</th>\n",
       "      <td>3917968.0</td>\n",
       "      <td>4.020089e+06</td>\n",
       "    </tr>\n",
       "    <tr>\n",
       "      <th>21</th>\n",
       "      <td>2161779.0</td>\n",
       "      <td>2.113818e+06</td>\n",
       "    </tr>\n",
       "    <tr>\n",
       "      <th>22</th>\n",
       "      <td>703730.0</td>\n",
       "      <td>5.219646e+05</td>\n",
       "    </tr>\n",
       "    <tr>\n",
       "      <th>23</th>\n",
       "      <td>888388.0</td>\n",
       "      <td>7.465470e+05</td>\n",
       "    </tr>\n",
       "    <tr>\n",
       "      <th>24</th>\n",
       "      <td>38431932.0</td>\n",
       "      <td>3.169933e+07</td>\n",
       "    </tr>\n",
       "    <tr>\n",
       "      <th>25</th>\n",
       "      <td>19214836.0</td>\n",
       "      <td>1.888993e+07</td>\n",
       "    </tr>\n",
       "    <tr>\n",
       "      <th>26</th>\n",
       "      <td>5485615.0</td>\n",
       "      <td>5.276135e+06</td>\n",
       "    </tr>\n",
       "    <tr>\n",
       "      <th>27</th>\n",
       "      <td>4646235.0</td>\n",
       "      <td>5.481747e+06</td>\n",
       "    </tr>\n",
       "    <tr>\n",
       "      <th>28</th>\n",
       "      <td>1023496.0</td>\n",
       "      <td>8.637644e+05</td>\n",
       "    </tr>\n",
       "    <tr>\n",
       "      <th>29</th>\n",
       "      <td>2279076.0</td>\n",
       "      <td>2.255763e+06</td>\n",
       "    </tr>\n",
       "  </tbody>\n",
       "</table>\n",
       "</div>"
      ],
      "text/plain": [
       "        Actual     Predicted\n",
       "0   38951948.0  4.210811e+07\n",
       "1    5290595.0  5.159867e+06\n",
       "2   29624968.0  3.233749e+07\n",
       "3    7140620.0  7.265299e+06\n",
       "4    1414919.0  1.240505e+06\n",
       "5    4785880.0  4.290289e+06\n",
       "6   25155007.0  2.740016e+07\n",
       "7    7521325.0  6.744372e+06\n",
       "8   21061312.0  2.379793e+07\n",
       "9    1700085.0  1.523544e+06\n",
       "10   1130814.0  1.006655e+06\n",
       "11  16335585.0  1.571572e+07\n",
       "12    473414.0  4.372934e+05\n",
       "13   3430268.0  3.643437e+06\n",
       "14   5986788.0  5.869170e+06\n",
       "15   9220322.0  9.968462e+06\n",
       "16   4365583.0  4.415580e+06\n",
       "17    483989.0  3.621067e+05\n",
       "18   1007207.0  1.064028e+06\n",
       "19   1124302.0  9.977459e+05\n",
       "20   3917968.0  4.020089e+06\n",
       "21   2161779.0  2.113818e+06\n",
       "22    703730.0  5.219646e+05\n",
       "23    888388.0  7.465470e+05\n",
       "24  38431932.0  3.169933e+07\n",
       "25  19214836.0  1.888993e+07\n",
       "26   5485615.0  5.276135e+06\n",
       "27   4646235.0  5.481747e+06\n",
       "28   1023496.0  8.637644e+05\n",
       "29   2279076.0  2.255763e+06"
      ]
     },
     "execution_count": 38,
     "metadata": {},
     "output_type": "execute_result"
    }
   ],
   "source": [
    "# Create a dataframe comparing the actual and predicted values of y.\n",
    "\n",
    "data_2 = pd.DataFrame({'Actual': y2_test.flatten(), 'Predicted': y2_predicted.flatten()})\n",
    "data_2.head(30)"
   ]
  },
  {
   "cell_type": "markdown",
   "id": "749caaa6",
   "metadata": {},
   "source": [
    "##### Compare how the regression fits the training set"
   ]
  },
  {
   "cell_type": "code",
   "execution_count": 39,
   "id": "ead3f3f3",
   "metadata": {},
   "outputs": [],
   "source": [
    "# Predict.\n",
    "\n",
    "y2_predicted_train = regression_2.predict(X2_train) # This is predicting X_train!"
   ]
  },
  {
   "cell_type": "code",
   "execution_count": 40,
   "id": "26b37f46",
   "metadata": {},
   "outputs": [],
   "source": [
    "rmse_2 = mean_squared_error(y2_train, y2_predicted_train)\n",
    "r2_2 = r2_score(y2_train, y2_predicted_train)"
   ]
  },
  {
   "cell_type": "code",
   "execution_count": 42,
   "id": "17a97b43",
   "metadata": {},
   "outputs": [
    {
     "name": "stdout",
     "output_type": "stream",
     "text": [
      "Slope: [[0.54023943]]\n",
      "Mean squared error:  2053207176326.686\n",
      "R2 score:  0.9655338951099539\n"
     ]
    }
   ],
   "source": [
    "print('Slope:' ,regression_2.coef_)\n",
    "print('Mean squared error: ', rmse_2)\n",
    "print('R2 score: ', r2_2)"
   ]
  },
  {
   "cell_type": "code",
   "execution_count": 44,
   "id": "76606c39",
   "metadata": {},
   "outputs": [
    {
     "data": {
      "image/png": "[encoded data removed]",
      "text/plain": [
       "<Figure size 432x288 with 1 Axes>"
      ]
     },
     "metadata": {
      "needs_background": "light"
     },
     "output_type": "display_data"
    }
   ],
   "source": [
    "# Visualizing the training set results.\n",
    "\n",
    "plot_test2 = plt\n",
    "plot_test2.scatter(X2_train, y2_train, color='blue', s = 15)\n",
    "plot_test2.plot(X2_train, y2_predicted_train, color='red', linewidth =3)\n",
    "plot_test2.title('Total Revenue vs Instruction Expenditure(Test set)')\n",
    "plot_test2.xlabel('Total Revenue')\n",
    "plot_test2.ylabel('Instruction Expenditure')\n",
    "plot_test2.show()"
   ]
  },
  {
   "cell_type": "markdown",
   "id": "dd770e25",
   "metadata": {},
   "source": [
    "### **Interpretation:**\n",
    "\n",
    "Well, this is nice! And what I expected...\n",
    "\n",
    "There seems to be 3 clusters in this scatterplot however that I can look more into in the next section. \n",
    "The slope is 0.54023943 which shows positive correlation between the two variables and the R2 of 0.9655338951099539 shows that this model is performing well and supports the hypothesis in this section. "
   ]
  }
 ],
 "metadata": {
  "kernelspec": {
   "display_name": "Python 3 (ipykernel)",
   "language": "python",
   "name": "python3"
  },
  "language_info": {
   "codemirror_mode": {
    "name": "ipython",
    "version": 3
   },
   "file_extension": ".py",
   "mimetype": "text/x-python",
   "name": "python",
   "nbconvert_exporter": "python",
   "pygments_lexer": "ipython3",
   "version": "3.8.12"
  }
 },
 "nbformat": 4,
 "nbformat_minor": 5
}
